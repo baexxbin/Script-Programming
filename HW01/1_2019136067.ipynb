{
 "cells": [
  {
   "cell_type": "markdown",
   "metadata": {},
   "source": [
    "#### 문제 1번\n",
    "제곱미터 -> 평으로 단위 환산하기"
   ]
  },
  {
   "cell_type": "code",
   "execution_count": 6,
   "metadata": {},
   "outputs": [
    {
     "name": "stdout",
     "output_type": "stream",
     "text": [
      "넓이 Xm^2를 입력 하시오: 64\n",
      "64 제곱미터는 19 평과 같습니다.\n"
     ]
    }
   ],
   "source": [
    "# 문제 1번\n",
    "\n",
    "area = eval(input(\"넓이 Xm^2를 입력 하시오: \")) #실수형으로 입력값을 받는다\n",
    "\n",
    "py = 3.3 #1평당 제곱미터의 값\n",
    "result = int(area // 3.3)    # 평으로 환산\n",
    "print(area, \"제곱미터는\", result, \"평과 같습니다.\", sep=\" \")  #결과출력"
   ]
  },
  {
   "cell_type": "markdown",
   "metadata": {},
   "source": [
    "#### 코드설명\n",
    "우선 사용자로부터 제곱미터값을 입력받는다.     \n",
    "이때, input함수를 eval를 이용하여 실수형으로 변환하도록 했다.     \n",
    "3.3제곱미터가 1평이라는 사실을 이용하여 제곱미터를 평으로 환산한다.     \n",
    "문제에서 환산한 평 값을 정수형으로 보여주었기에 //와 int형을 사용하였다.     \n",
    "마지막으로 print함수의 문자연결을 통해 결과를 출력하였다."
   ]
  },
  {
   "cell_type": "markdown",
   "metadata": {},
   "source": [
    "#### 문제 2\n",
    "(회전 변환) 파이썬 내장 라이브러리 math를 이용하여 어떠한 점 x1, y1을 입력 받고 각도a도 만큼 회전 변환한 점을 x2, y2라고 할 경우 x2, y2의 좌표를 구하시오. (소수점 2자리까지 표시하시오.)"
   ]
  },
  {
   "cell_type": "code",
   "execution_count": 1,
   "metadata": {},
   "outputs": [
    {
     "name": "stdout",
     "output_type": "stream",
     "text": [
      "좌표입력: 3 4\n",
      "회전할 각도 A를 입력하시오: 60\n",
      "회전좌표 x2, y2값:  -1.96 , 4.60\n"
     ]
    }
   ],
   "source": [
    "import math #수학함수를 import한다\n",
    "\n",
    "x1, y1 = map(int,input(\"좌표입력: \").split())  # map을 이용하여 두개의 입력을 받고, split()을 이용하여 공백으로 나눔.\n",
    "a = eval(input(\"회전할 각도 A를 입력하시오: \"))  # 각도를 숫자로 입력받음\n",
    "\n",
    "x2 = x1*math.cos(math.radians(a)) - y1*math.sin(math.radians(a))  # 회전각 공식이용, math함수 이용\n",
    "y2 = x1*math.sin(math.radians(a)) + y1*math.cos(math.radians(a))\n",
    "\n",
    "print(\"회전좌표 x2, y2값: \", format(x2,'.2f'),\",\",format(y2,'.2f'))  # format함수를 통해 소수점 두자리까지 출력"
   ]
  },
  {
   "cell_type": "markdown",
   "metadata": {},
   "source": [
    "#### 코드설명\n",
    "\n",
    "1) 삼각함수를 써야함으로 math를 import한다.\n",
    " \n",
    "2) 좌표를 입력받는다.     \n",
    "복수데이터를 입력받고, 형변환을 하고싶으므로 map함수를 사용함     \n",
    ".split()을 통해 공백으로 문자를 구분한다.     \n",
    " \n",
    "3) 회전각 공식을 이용하여 x2,y2값을 구한다.     \n",
    "삼각함수와 라디안은 import해온 math함수에 속함으로 math.을 붙여준다.   \n",
    "\n",
    "4) format()함수를 통해 원하는 소수점만큼 출력한다."
   ]
  },
  {
   "cell_type": "markdown",
   "metadata": {},
   "source": [
    "#### 문제3\n",
    "중점이 (0,0)이고 반지름이 r인 원이 있다고 할 경우, 입력받은 x1, y1이 원 방정식의 어디에 위치하는지 나타내시오.     \n",
    "예를 들어 반지름이 1인 원인 경우 (1,0)은 원 위에 있고, (0.5,0.5)는 원 안에, (2,1)은 원 밖에 존재한다."
   ]
  },
  {
   "cell_type": "code",
   "execution_count": 2,
   "metadata": {},
   "outputs": [
    {
     "name": "stdout",
     "output_type": "stream",
     "text": [
      "반지름 r을 입력하시오: 1\n",
      "x1,y1을 입력하시오: 2 3\n",
      "2.0 , 3.0 은 원 밖에 존재합니다.\n"
     ]
    }
   ],
   "source": [
    "# 반지름r과 좌표입력\n",
    "r = eval(input(\"반지름 r을 입력하시오: \"))\n",
    "x1,y1 = map(float, input(\"x1,y1을 입력하시오: \").split())\n",
    "\n",
    "# 원의 방정식 위치파악\n",
    "if (x1 == r) or (y1 == r):\n",
    "    print(x1, \",\", y1, \"은 원 위에 존재합니다.\")\n",
    "elif (x1 < r) or (y1 <r):\n",
    "    print(x1, \",\", y1, \"은 원 안에 존재합니다.\")\n",
    "elif (x1 > r) or(y1 > r):\n",
    "    print(x1, \",\", y1, \"은 원 밖에 존재합니다.\")"
   ]
  },
  {
   "cell_type": "markdown",
   "metadata": {},
   "source": [
    "#### 문제설명\n",
    "1) 반지름 r과 좌표를 입력받는다.    \n",
    "좌표입력시 두개의 값을 동시에 받기때문에 map함수와 ,split()을 이용한다.     \n",
    "\n",
    "2) 원의 방정식에서 좌표의 위치파악하기    \n",
    "두 좌표중 하나라도 반지름과 같은 값일 경우 원 위에 존재,    \n",
    "반지름 보다 작을 경우 원 안에존재,    \n",
    "반지름 보다 클 경우에는 원 밖에 존재한다는 사실을 이용하여 elif을 사용하였다."
   ]
  },
  {
   "cell_type": "markdown",
   "metadata": {},
   "source": [
    "#### 문제4\n",
    "(과락 계산) xx자격증 시험은 총 4과목으로 구성되어 있다.     \n",
    "각 과목당 100점이고, 과목의 총 합이 240점 이상이면 합격이다. 단, 한과목이라도 40점 이하의 점수를 얻은 경우 탈락으로 처리된다. 4 과목의 점수를 입력받았을 때, 합격인지 탈락인지 결과를 출력하라."
   ]
  },
  {
   "cell_type": "code",
   "execution_count": 3,
   "metadata": {},
   "outputs": [
    {
     "name": "stdout",
     "output_type": "stream",
     "text": [
      "A시험 점수: 70\n",
      "B시험 점수: 40\n",
      "C시험 점수: 80\n",
      "D시험 점수: 80\n",
      "결과: 탈락\n"
     ]
    }
   ],
   "source": [
    "# 시험점수 입력받기\n",
    "a = eval(input(\"A시험 점수: \"))\n",
    "b = eval(input(\"B시험 점수: \"))\n",
    "c = eval(input(\"C시험 점수: \"))\n",
    "d = eval(input(\"D시험 점수: \"))\n",
    "\n",
    "# 합 불 계산\n",
    "sum = a + b + c + d\n",
    "if sum >= 240:\n",
    "    if (a <= 40) or (b <= 40) or (c <= 40) or (d <= 40):\n",
    "        print(\"결과: 탈락\")\n",
    "    else:\n",
    "        print(\"결과: 합격\")"
   ]
  },
  {
   "cell_type": "markdown",
   "metadata": {},
   "source": [
    "#### 문제설명\n",
    "1) 시험점수를 입력받는다.    \n",
    "점수이기때문에 eval함수를 통해 값을 입력받는다.\n",
    "\n",
    "2) 합불 계산\n",
    "    모든 시험의 점수를 합친값인 sum을 만든다.    \n",
    "    총점이 240이상일 경우 합격이지만, 이 첫번째 조건(if)문을 만족하더라도     \n",
    "    한 과목 이상이 40점 이하일 경우 탈락으로 처리한다. (두번째 조건 if)    \n",
    "    이 이외의 나머지 경우는 합격이다."
   ]
  },
  {
   "cell_type": "markdown",
   "metadata": {},
   "source": [
    "#### 문제5\n",
    "챌러 공식을 이용하여 연, 월, 일을 입력하여 무슨 요일인지 구하기"
   ]
  },
  {
   "cell_type": "code",
   "execution_count": 4,
   "metadata": {},
   "outputs": [
    {
     "name": "stdout",
     "output_type": "stream",
     "text": [
      "연, 월, 일을 입력하시오: 2020,09,14\n",
      "월요일 입니다.\n"
     ]
    }
   ],
   "source": [
    "from math import floor\n",
    "# 연, 월, 일 입력받기\n",
    "year, month, day = map(int, input(\"연, 월, 일을 입력하시오: \").split(','))\n",
    "\n",
    "# 입력받은 값을 공식의 값으로 변환\n",
    "q = day\n",
    "\n",
    "if month == 13: m = 1\n",
    "elif month == 14: m = 2\n",
    "else: m = month\n",
    "\n",
    "k = year % 100\n",
    "\n",
    "j = year // 100\n",
    "\n",
    "# 공식대입\n",
    "h = (q + floor(13*(m + 1) / 5) + k + floor(k/4) + floor(j/4) - 2*j) % 7\n",
    "if h == 0: print(\"토요일 입니다.\")\n",
    "elif h == 1: print(\"일요일 입니다.\")\n",
    "elif h == 2: print(\"월요일 입니다.\")\n",
    "elif h == 3: print(\"화요일 입니다.\")\n",
    "elif h == 4: print(\"수요일 입니다.\")\n",
    "elif h == 5: print(\"목요일 입니다.\")\n",
    "elif h == 6: print(\"금요일 입니다.\")"
   ]
  },
  {
   "cell_type": "markdown",
   "metadata": {},
   "source": [
    "#### 문제6     \n",
    "(업 다운 게임) 0~100사이의 랜덤 숫자를 지정하고 사용자는 5번의 기회 동안 숫자를 입력한다.     \n",
    "매번 기회 마다 사용자의 숫자가 랜덤한 숫자보다 큰지 작은지 업, 다운으로 알려준다."
   ]
  },
  {
   "cell_type": "code",
   "execution_count": 5,
   "metadata": {},
   "outputs": [
    {
     "name": "stdout",
     "output_type": "stream",
     "text": [
      "숫자를 입력하세요: 36\n",
      "업\n",
      "숫자를 입력하세요: 56\n",
      "업\n",
      "숫자를 입력하세요: 78\n",
      "업\n",
      "숫자를 입력하세요: 89\n",
      "업\n",
      "숫자를 입력하세요: 96\n",
      "업\n",
      "정답은 99 입니다\n"
     ]
    }
   ],
   "source": [
    "#랜덤함수 import\n",
    "import random\n",
    "\n",
    "# 랜덤값 생성\n",
    "answer = random.randint(0,100)\n",
    "\n",
    "# 게임실행\n",
    "for i in range (1,6):\n",
    "    guess = int(input(\"숫자를 입력하세요: \"))\n",
    "    if guess == answer:\n",
    "        print(\"정답\")\n",
    "        break\n",
    "    elif guess < answer:\n",
    "        print(\"업\")\n",
    "    elif guess > answer:\n",
    "        print(\"다운\")\n",
    "\n",
    "# 정답을 못맞추었을 시 정답 출력\n",
    "print(\"정답은 %d 입니다\" %(answer))"
   ]
  },
  {
   "cell_type": "markdown",
   "metadata": {},
   "source": [
    "#### 문제설명\n",
    "1) 랜덤함수를 import해온다.\n",
    "random.randint를 통해 0부터 100까지 값을 랜덤으로 생성    \n",
    "\n",
    "2) 게임실행\n",
    "for문을 이용해 5번동안 반복한다.     \n",
    "if문을 통해 업, 다운을 나타낸다.    \n",
    "정답일시 반복문을 탈출한다.\n",
    "\n",
    "3) 랜덤값 출력\n",
    "5번만에 정답을 맞추지 못할시 정답을 출력한다."
   ]
  }
 ],
 "metadata": {
  "kernelspec": {
   "display_name": "Python 3",
   "language": "python",
   "name": "python3"
  },
  "language_info": {
   "codemirror_mode": {
    "name": "ipython",
    "version": 3
   },
   "file_extension": ".py",
   "mimetype": "text/x-python",
   "name": "python",
   "nbconvert_exporter": "python",
   "pygments_lexer": "ipython3",
   "version": "3.8.3"
  }
 },
 "nbformat": 4,
 "nbformat_minor": 4
}
