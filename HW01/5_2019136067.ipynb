{
 "cells": [
  {
   "cell_type": "markdown",
   "metadata": {},
   "source": [
    "#### 문제5\n",
    "챌러 공식을 이용하여 연, 월, 일을 입력하여 무슨 요일인지 구하기"
   ]
  },
  {
   "cell_type": "code",
   "execution_count": 11,
   "metadata": {},
   "outputs": [
    {
     "name": "stdout",
     "output_type": "stream",
     "text": [
      "연, 월, 일을 입력하시오: 2020,09,14\n",
      "월요일 입니다.\n"
     ]
    }
   ],
   "source": [
    "from math import floor\n",
    "# 연, 월, 일 입력받기\n",
    "year, month, day = map(int, input(\"연, 월, 일을 입력하시오: \").split(','))\n",
    "\n",
    "# 입력받은 값을 공식의 값으로 변환\n",
    "q = day\n",
    "\n",
    "if month == 13: m = 1\n",
    "elif month == 14: m = 2\n",
    "else: m = month\n",
    "\n",
    "k = year % 100\n",
    "\n",
    "j = year // 100\n",
    "\n",
    "# 공식대입\n",
    "h = (q + floor(13*(m + 1) / 5) + k + floor(k/4) + floor(j/4) - 2*j) % 7\n",
    "if h == 0: print(\"토요일 입니다.\")\n",
    "elif h == 1: print(\"일요일 입니다.\")\n",
    "elif h == 2: print(\"월요일 입니다.\")\n",
    "elif h == 3: print(\"화요일 입니다.\")\n",
    "elif h == 4: print(\"수요일 입니다.\")\n",
    "elif h == 5: print(\"목요일 입니다.\")\n",
    "elif h == 6: print(\"금요일 입니다.\")\n"
   ]
  },
  {
   "cell_type": "markdown",
   "metadata": {},
   "source": [
    "#### 문제설명\n",
    "1) floor 함수를 사용하기 위해 math를 import해온다.\n",
    "\n",
    "2) 연, 월, 일을 입력받는다.\n",
    "\n",
    "3) 입력받은 값을 공식의 값에 맞게 변환한다.     \n",
    "월의 값을 입력받을시, 1월과 2월은 13, 14의 값을 가지므로 if문을 이용해 변환한다.    \n",
    "k,j값의 경우 년도 앞자리 뒷자리임으로 나누기와 나머지값을 이용한다.     \n",
    "\n",
    "4) 변환된 값들을 공식에 대입한다.\n",
    "공식을 적을 시 곱하기* 를 빼먹지말고 적어준다!      \n",
    "그 수를 넘지않는 최대의 정수는 가우스 역할을 하는 floor함수를 이용한다.\n",
    "\n",
    "5) 결과출력\n",
    "0: 토요일 ~ 6: 금요일로 h의 값을 if와 elif로 나누어 출력한다."
   ]
  }
 ],
 "metadata": {
  "kernelspec": {
   "display_name": "Python 3",
   "language": "python",
   "name": "python3"
  },
  "language_info": {
   "codemirror_mode": {
    "name": "ipython",
    "version": 3
   },
   "file_extension": ".py",
   "mimetype": "text/x-python",
   "name": "python",
   "nbconvert_exporter": "python",
   "pygments_lexer": "ipython3",
   "version": "3.8.3"
  }
 },
 "nbformat": 4,
 "nbformat_minor": 4
}
