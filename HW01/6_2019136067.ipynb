{
 "cells": [
  {
   "cell_type": "markdown",
   "metadata": {},
   "source": [
    "#### 문제6     \n",
    "(업 다운 게임) 0~100사이의 랜덤 숫자를 지정하고 사용자는 5번의 기회 동안 숫자를 입력한다.     \n",
    "매번 기회 마다 사용자의 숫자가 랜덤한 숫자보다 큰지 작은지 업, 다운으로 알려준다."
   ]
  },
  {
   "cell_type": "code",
   "execution_count": 5,
   "metadata": {},
   "outputs": [
    {
     "name": "stdout",
     "output_type": "stream",
     "text": [
      "숫자를 입력하세요: 45\n",
      "업\n",
      "숫자를 입력하세요: 56\n",
      "업\n",
      "숫자를 입력하세요: 57\n",
      "업\n",
      "숫자를 입력하세요: 89\n",
      "다운\n",
      "숫자를 입력하세요: 85\n",
      "다운\n",
      "정답은 62 입니다\n"
     ]
    }
   ],
   "source": [
    "#랜덤함수 import\n",
    "import random\n",
    "\n",
    "# 랜덤값 생성\n",
    "answer = random.randint(0,100)\n",
    "\n",
    "# 게임실행\n",
    "for i in range (1,6):\n",
    "    guess = int(input(\"숫자를 입력하세요: \"))\n",
    "    if guess == answer:\n",
    "        print(\"정답\")\n",
    "        break\n",
    "    elif guess < answer:\n",
    "        print(\"업\")\n",
    "    elif guess > answer:\n",
    "        print(\"다운\")\n",
    "\n",
    "# 정답을 못맞추었을 시 정답 출력\n",
    "print(\"정답은 %d 입니다\" %(answer))"
   ]
  },
  {
   "cell_type": "markdown",
   "metadata": {},
   "source": [
    "#### 문제설명\n",
    "1) 랜덤함수를 import해온다.\n",
    "random.randint를 통해 0부터 100까지 값을 랜덤으로 생성    \n",
    "\n",
    "2) 게임실행\n",
    "for문을 이용해 5번동안 반복한다.     \n",
    "if문을 통해 업, 다운을 나타낸다.    \n",
    "정답일시 반복문을 탈출한다.\n",
    "\n",
    "3) 랜덤값 출력\n",
    "5번만에 정답을 맞추지 못할시 정답을 출력한다."
   ]
  }
 ],
 "metadata": {
  "kernelspec": {
   "display_name": "Python 3",
   "language": "python",
   "name": "python3"
  },
  "language_info": {
   "codemirror_mode": {
    "name": "ipython",
    "version": 3
   },
   "file_extension": ".py",
   "mimetype": "text/x-python",
   "name": "python",
   "nbconvert_exporter": "python",
   "pygments_lexer": "ipython3",
   "version": "3.8.3"
  }
 },
 "nbformat": 4,
 "nbformat_minor": 4
}
