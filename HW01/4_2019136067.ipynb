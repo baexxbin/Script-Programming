{
 "cells": [
  {
   "cell_type": "markdown",
   "metadata": {},
   "source": [
    "#### 문제4\n",
    "(과락 계산) xx자격증 시험은 총 4과목으로 구성되어 있다.     \n",
    "각 과목당 100점이고, 과목의 총 합이 240점 이상이면 합격이다. 단, 한과목이라도 40점 이하의 점수를 얻은 경우 탈락으로 처리된다. 4 과목의 점수를 입력받았을 때, 합격인지 탈락인지 결과를 출력하라."
   ]
  },
  {
   "cell_type": "code",
   "execution_count": 5,
   "metadata": {
    "scrolled": false
   },
   "outputs": [
    {
     "name": "stdout",
     "output_type": "stream",
     "text": [
      "A시험 점수: 70\n",
      "B시험 점수: 40\n",
      "C시험 점수: 80\n",
      "D시험 점수: 80\n",
      "결과: 탈락\n"
     ]
    }
   ],
   "source": [
    "# 시험점수 입력받기\n",
    "a = eval(input(\"A시험 점수: \"))\n",
    "b = eval(input(\"B시험 점수: \"))\n",
    "c = eval(input(\"C시험 점수: \"))\n",
    "d = eval(input(\"D시험 점수: \"))\n",
    "\n",
    "# 합 불 계산\n",
    "sum = a + b + c + d\n",
    "if sum >= 240:\n",
    "    if (a <= 40) or (b <= 40) or (c <= 40) or (d <= 40):\n",
    "        print(\"결과: 탈락\")\n",
    "    else:\n",
    "        print(\"결과: 합격\")"
   ]
  },
  {
   "cell_type": "markdown",
   "metadata": {},
   "source": [
    "#### 문제설명\n",
    "1) 시험점수를 입력받는다.    \n",
    "점수이기때문에 eval함수를 통해 값을 입력받는다.\n",
    "\n",
    "2) 합불 계산\n",
    "    모든 시험의 점수를 합친값인 sum을 만든다.    \n",
    "    총점이 240이상일 경우 합격이지만, 이 첫번째 조건(if)문을 만족하더라도     \n",
    "    한 과목 이상이 40점 이하일 경우 탈락으로 처리한다. (두번째 조건 if)    \n",
    "    이 이외의 나머지 경우는 합격이다.\n",
    "    "
   ]
  }
 ],
 "metadata": {
  "kernelspec": {
   "display_name": "Python 3",
   "language": "python",
   "name": "python3"
  },
  "language_info": {
   "codemirror_mode": {
    "name": "ipython",
    "version": 3
   },
   "file_extension": ".py",
   "mimetype": "text/x-python",
   "name": "python",
   "nbconvert_exporter": "python",
   "pygments_lexer": "ipython3",
   "version": "3.8.3"
  }
 },
 "nbformat": 4,
 "nbformat_minor": 4
}
