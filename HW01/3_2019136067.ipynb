{
 "cells": [
  {
   "cell_type": "markdown",
   "metadata": {},
   "source": [
    "#### 문제3\n",
    "중점이 (0,0)이고 반지름이 r인 원이 있다고 할 경우, 입력받은 x1, y1이 원 방정식의 어디에 위치하는지 나타내시오.     \n",
    "예를 들어 반지름이 1인 원인 경우 (1,0)은 원 위에 있고, (0.5,0.5)는 원 안에, (2,1)은 원 밖에 존재한다."
   ]
  },
  {
   "cell_type": "code",
   "execution_count": 7,
   "metadata": {
    "scrolled": true
   },
   "outputs": [
    {
     "name": "stdout",
     "output_type": "stream",
     "text": [
      "반지름 r을 입력하시오: 1\n",
      "x1,y1을 입력하시오: 2 3\n",
      "2.0 , 3.0 은 원 밖에 존재합니다.\n"
     ]
    }
   ],
   "source": [
    "# 반지름r과 좌표입력\n",
    "r = eval(input(\"반지름 r을 입력하시오: \"))\n",
    "x1,y1 = map(float, input(\"x1,y1을 입력하시오: \").split())\n",
    "\n",
    "# 원의 방정식 위치파악\n",
    "if (x1 == r) or (y1 == r):\n",
    "    print(x1, \",\", y1, \"은 원 위에 존재합니다.\")\n",
    "elif (x1 < r) or (y1 <r):\n",
    "    print(x1, \",\", y1, \"은 원 안에 존재합니다.\")\n",
    "elif (x1 > r) or(y1 > r):\n",
    "    print(x1, \",\", y1, \"은 원 밖에 존재합니다.\")\n",
    "    "
   ]
  },
  {
   "cell_type": "markdown",
   "metadata": {},
   "source": [
    "#### 문제설명\n",
    "1) 반지름 r과 좌표를 입력받는다.    \n",
    "좌표입력시 두개의 값을 동시에 받기때문에 map함수와 ,split()을 이용한다.     \n",
    "\n",
    "2) 원의 방정식에서 좌표의 위치파악하기    \n",
    "두 좌표중 하나라도 반지름과 같은 값일 경우 원 위에 존재,    \n",
    "반지름 보다 작을 경우 원 안에존재,    \n",
    "반지름 보다 클 경우에는 원 밖에 존재한다는 사실을 이용하여 elif을 사용하였다."
   ]
  }
 ],
 "metadata": {
  "kernelspec": {
   "display_name": "Python 3",
   "language": "python",
   "name": "python3"
  },
  "language_info": {
   "codemirror_mode": {
    "name": "ipython",
    "version": 3
   },
   "file_extension": ".py",
   "mimetype": "text/x-python",
   "name": "python",
   "nbconvert_exporter": "python",
   "pygments_lexer": "ipython3",
   "version": "3.8.3"
  }
 },
 "nbformat": 4,
 "nbformat_minor": 4
}
