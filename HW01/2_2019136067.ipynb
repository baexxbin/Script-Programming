{
 "cells": [
  {
   "cell_type": "markdown",
   "metadata": {},
   "source": [
    "#### 문제 2\n",
    "(회전 변환) 파이썬 내장 라이브러리 math를 이용하여 어떠한 점 x1, y1을 입력 받고 각도a도 만큼 회전 변환한 점을 x2, y2라고 할 경우 x2, y2의 좌표를 구하시오. (소수점 2자리까지 표시하시오.)"
   ]
  },
  {
   "cell_type": "code",
   "execution_count": 22,
   "metadata": {},
   "outputs": [
    {
     "name": "stdout",
     "output_type": "stream",
     "text": [
      "좌표입력: 3 4\n",
      "회전할 각도 A를 입력하시오: 60\n",
      "회전좌표 x2, y2값:  -1.96 , 4.60\n"
     ]
    }
   ],
   "source": [
    "import math #수학함수를 import한다\n",
    "\n",
    "x1, y1 = map(int,input(\"좌표입력: \").split())  # map을 이용하여 두개의 입력을 받고, split()을 이용하여 공백으로 나눔.\n",
    "a = eval(input(\"회전할 각도 A를 입력하시오: \"))  # 각도를 숫자로 입력받음\n",
    "\n",
    "x2 = x1*math.cos(math.radians(a)) - y1*math.sin(math.radians(a))  # 회전각 공식이용, math함수 이용\n",
    "y2 = x1*math.sin(math.radians(a)) + y1*math.cos(math.radians(a))\n",
    "\n",
    "print(\"회전좌표 x2, y2값: \", format(x2,'.2f'),\",\",format(y2,'.2f'))  # format함수를 통해 소수점 두자리까지 출력"
   ]
  },
  {
   "cell_type": "code",
   "execution_count": 22,
   "metadata": {},
   "outputs": [
    {
     "name": "stdout",
     "output_type": "stream",
     "text": [
      "좌표입력: 3 4\n",
      "회전할 각도 A를 입력하시오: 60\n",
      "회전좌표 x2, y2값:  -1.96 , 4.60\n"
     ]
    }
   ],
   "source": [
    "import math #수학함수를 import한다\n",
    "\n",
    "x1, y1 = map(int,input(\"좌표입력: \").split())  # map을 이용하여 두개의 입력을 받고, split()을 이용하여 공백으로 나눔.\n",
    "a = eval(input(\"회전할 각도 A를 입력하시오: \"))  # 각도를 숫자로 입력받음\n",
    "\n",
    "x2 = x1*math.cos(math.radians(a)) - y1*math.sin(math.radians(a))  # 회전각 공식이용, math함수 이용\n",
    "y2 = x1*math.sin(math.radians(a)) + y1*math.cos(math.radians(a))\n",
    "\n",
    "print(\"회전좌표 x2, y2값: \", format(x2,'.2f'),\",\",format(y2,'.2f'))  # format함수를 통해 소수점 두자리까지 출력"
   ]
  },
  {
   "cell_type": "markdown",
   "metadata": {},
   "source": [
    "#### 코드설명\n",
    "\n",
    "1) 삼각함수를 써야함으로 math를 import한다.\n",
    " \n",
    "2) 좌표를 입력받는다.     \n",
    "복수데이터를 입력받고, 형변환을 하고싶으므로 map함수를 사용함     \n",
    ".split()을 통해 공백으로 문자를 구분한다.     \n",
    " \n",
    "3) 회전각 공식을 이용하여 x2,y2값을 구한다.     \n",
    "삼각함수와 라디안은 import해온 math함수에 속함으로 math.을 붙여준다.   \n",
    "\n",
    "4) format()함수를 통해 원하는 소수점만큼 출력한다."
   ]
  }
 ],
 "metadata": {
  "kernelspec": {
   "display_name": "Python 3",
   "language": "python",
   "name": "python3"
  },
  "language_info": {
   "codemirror_mode": {
    "name": "ipython",
    "version": 3
   },
   "file_extension": ".py",
   "mimetype": "text/x-python",
   "name": "python",
   "nbconvert_exporter": "python",
   "pygments_lexer": "ipython3",
   "version": "3.8.3"
  }
 },
 "nbformat": 4,
 "nbformat_minor": 4
}
