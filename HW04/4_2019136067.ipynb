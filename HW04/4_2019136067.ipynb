{
 "cells": [
  {
   "cell_type": "markdown",
   "metadata": {},
   "source": [
    "#### 문제 1\n",
    "크기 20의 리스트를 선언 하여 -10부터 10까지의 랜덤한 숫자로 초기화를 합니다.    \n",
    "음수의 숫자들의 인덱스를 출력하고 양수로 바꾸어서 다시 저장한 후 이를 출력하시오."
   ]
  },
  {
   "cell_type": "code",
   "execution_count": 164,
   "metadata": {},
   "outputs": [
    {
     "name": "stdout",
     "output_type": "stream",
     "text": [
      "A = [-1, 4, 7, -10, 10, 10, -2, 7, 7, 9, -9, -1, 9, -5, 2, 3, -10, -8, 8, 6]\n",
      "음수인덱스: 0,3,6,10,11,13,16,17,\n",
      "A = [1, 4, 7, 10, 10, 10, 2, 7, 7, 9, 9, 1, 9, 5, 2, 3, 10, 8, 8, 6]\n"
     ]
    }
   ],
   "source": [
    "import random\n",
    "\n",
    "# 리스트 초기화\n",
    "randomList = [random.randint(-10, 10) for _ in range(20)] # 크기 20 리스트, -10~10까지 랜덤숫자로 초기화\n",
    "print('A =',randomList)\n",
    "\n",
    "# 음수 인덱스 출력\n",
    "print('음수인덱스: ', end='')\n",
    "for i in range(len(randomList)):\n",
    "    if randomList[i] < 0:\n",
    "        print(i, end=',')\n",
    "    \n",
    "print()\n",
    "        \n",
    "# 양수로 바꾸기\n",
    "randomList = [abs(x) for x in randomList]\n",
    "print('A =', randomList)"
   ]
  },
  {
   "cell_type": "markdown",
   "metadata": {},
   "source": [
    "#### 코드설명\n",
    "1. 리스트 초기화   \n",
    "[]안에서 for _ in range(20)을 통해 크기를 설정하고, random함수를 통해 랜덤숫자로 초기화해준다.    \n",
    "이때, _ 는 for문에서 인덱스의 값이 굳이 필요없으므로 무시한다는 뜻이다.\n",
    "\n",
    "2. 음수 인덱스 출력    \n",
    "random리스트의 길이만큼 for문을 돌면서 i가 0보다 작은 음수일때, 인덱스임으로 i를 출력한다.    \n",
    "\n",
    "3. 양수로 바꾸기    \n",
    "리스트컨프리헨션을 이용하여 x의값이 절대값인 리스트를 생성한다."
   ]
  },
  {
   "cell_type": "markdown",
   "metadata": {},
   "source": [
    "#### 문제 2\n",
    "크기10의 리스트를 생성하여 0부터 10까지의 랜덤한 숫자로 초기화를 합니다.    \n",
    "이때 중복된 숫자를 제거하고 리스트를 오름차순으로 정렬하여 출력하시오."
   ]
  },
  {
   "cell_type": "code",
   "execution_count": 31,
   "metadata": {},
   "outputs": [
    {
     "name": "stdout",
     "output_type": "stream",
     "text": [
      "A = [3, 2, 2, 6, 9, 4, 10, 10, 4, 3]\n",
      "A = [2, 3, 4, 6, 9, 10]\n"
     ]
    }
   ],
   "source": [
    "import random\n",
    "\n",
    "# 리스트 초기화\n",
    "list1 = [random.randint(0,10) for _ in range(10)]    # 크기10, 0~10랜덤수로 채운 리스트 생성\n",
    "print('A =',list1)\n",
    "\n",
    "# 중복된 숫자 제거\n",
    "for i in range(len(list1)+1):\n",
    "    if list1.count(i) > 1:\n",
    "        while list1.count(i)!=1:\n",
    "            list1.remove(i)\n",
    "\n",
    "# 리스트 오름차순 정렬\n",
    "list1.sort()\n",
    "print('A =',list1)"
   ]
  },
  {
   "cell_type": "markdown",
   "metadata": {},
   "source": [
    "#### 코드설명\n",
    "1. 리스트 초기화    \n",
    "randint함수를 이용하여 길이 10인 리스트 생성 및 랜덤값으로 초기화    \n",
    "\n",
    "2. 중복된 숫자 제거    \n",
    "i는 10까지 있으므로 list1의 길이+1 만큼 돌면서, i값이 1개이상일때, i값이 1개가 되기전까지 삭제한다.\n",
    "\n",
    "3. sort()매소드를 이용하여 리스트를 오름차순으로 정렬한다."
   ]
  },
  {
   "cell_type": "markdown",
   "metadata": {},
   "source": [
    "#### 문제 3\n",
    "불량을 판정하라    \n",
    "상품 A를 만들 때는 두가지 공정을 확인합니다. 첫 공정은 x, 두번째 공정은 y라고 할 경우 x, y의 공정 둘 다 이상이 있는 경우만 불량으로 판정합니다. 10개의 제품이 있고 각 공정의 결과를 x 리스트, y 리스트에 저장하는데 정상품은 True, 불량품은 False로 저장되는 리스트를 만드시오. (x, y 리스트의 정상품, 불량품 결과(True, False 값)는 랜덤하게 초기화 함) x, y 리스트를 활용하여 A가 정상품이면 True, 불량품이면 False를 가지는 리스트가 되도록 하시오."
   ]
  },
  {
   "cell_type": "code",
   "execution_count": 21,
   "metadata": {
    "scrolled": false
   },
   "outputs": [
    {
     "name": "stdout",
     "output_type": "stream",
     "text": [
      "A = [True, True, True, True, True, True, True, True, True, True]\n",
      "x = [True, False, False, True, True, True, True, True, True, False]\n",
      "y = [False, False, False, False, True, False, True, False, True, True]\n",
      "A = [True, False, False, True, True, True, True, True, True, True]\n"
     ]
    }
   ],
   "source": [
    "import random\n",
    "\n",
    "# A 리스트 초기화\n",
    "A = [random.choice([True]) for _ in range(10)]\n",
    "print('A =', A)\n",
    "\n",
    "# x,y 리스트 랜덤 초기화\n",
    "x = [random.choice([True, False]) for _ in range(10)]\n",
    "y = [random.choice([True, False]) for _ in range(10)]\n",
    "print('x =', x)\n",
    "print('y =', y)\n",
    "\n",
    "# 공정과정을 거쳐 둘다 false 일때만 값을 false으로 바꾼다\n",
    "for i in range(10):\n",
    "    if x[i] == False and y[i] == False:\n",
    "        A.pop(i)           # 우선 삭제를 하고\n",
    "        A.insert(i,False) # False값을 넣어준다.\n",
    "\n",
    "# 값 출력\n",
    "print('A =', A)"
   ]
  },
  {
   "cell_type": "markdown",
   "metadata": {},
   "source": [
    "#### 코드설명\n",
    "1. A 리스트 초기화    \n",
    "A리스트 값을 True로 다 초기화 해준다.\n",
    "\n",
    "2. x,y리스트 초기화     \n",
    "random.choice를 이용하여 True와 False 값중 랜덤으로 값을 초기화한다.    \n",
    "\n",
    "3. 공정과정 거치기    \n",
    "x와 y의 리스트 i값이 둘다 false일때 우선 A의 인덱스 i값을 삭제하고 False를 삽입한다. "
   ]
  },
  {
   "cell_type": "markdown",
   "metadata": {},
   "source": [
    "#### 문제 4\n",
    "대문자로 변경 하기.     \n",
    "Dance for me, dance for me, dance for me, oh, oh, oh.i've never seen anybody do the things you do before.they say move for me, move for me, move for me, ay, ay, ay.and when you're done. i'll make you do it all again.\n",
    "노래 가사 중의 일부입니다. 위의 문자열을 리스트에 저장 합니다. ‘,’ ‘.’ 뒤에 오는 첫 문자를 대문자로 바꿔서 다시 저장하고 이를 출력하시오. (리스트의 split기능을 사용하시오)     "
   ]
  },
  {
   "cell_type": "code",
   "execution_count": 77,
   "metadata": {},
   "outputs": [
    {
     "name": "stdout",
     "output_type": "stream",
     "text": [
      "Dance  for me, Dance for me, Dance for me, Oh, Oh, Oh. \n",
      " I've never seen anybody do the things you do before. \n",
      " They say move for me, Move for me, Move for me, Ay, Ay, Ay. \n",
      " And when you're done. I'll make you do it all again. \n",
      "\n"
     ]
    }
   ],
   "source": [
    "# print(\"\\n\".join(song))\n",
    "\n",
    "sing = \"\"\"Dance for me, dance for me, dance for me, oh, oh, oh.\n",
    "i've never seen anybody do the things you do before.\n",
    "they say move for me, move for me, move for me, ay, ay, ay.\n",
    "and when you're done. i'll make you do it all again.\"\"\"\n",
    "\n",
    "# 문자열 리스트에 저장\n",
    "song = sing.split('\\n')\n",
    "\n",
    "token = ['']\n",
    "for i in range(len(song)):\n",
    "    token += song[i].split()\n",
    "    token += \"\\n\"\n",
    "    \n",
    "ch_token = ''\n",
    "for j in range(len(token)):\n",
    "    if (',' in token[j]) or ('.' in token[j]):\n",
    "        if (j+1) < len(token):\n",
    "            if token[(j+1) % len(token)] != \"\\n\":\n",
    "                ch_token = \"\".join(token[(j+1) % len(token)])     # 바꿀리스트 문자열로 변환\n",
    "                ch_token = ch_token.capitalize()                  # 첫글자 대문자로 바꾸기\n",
    "                token.pop(j+1)                     # 삭제하고\n",
    "                token.insert(j+1,ch_token)         # 바꾼것으로 넣어준다.\n",
    "\n",
    "            else:\n",
    "                ch_token = \"\".join(token[(j+2) % len(token)])     # 바꿀리스트 문자열로 변환\n",
    "                ch_token = ch_token.capitalize()                  # 첫글자 대문자로 바꾸기\n",
    "                token.pop((j+2) % len(token))                     \n",
    "                token.insert((j+2) % len(token),ch_token)\n",
    "\n",
    "song = []\n",
    "song = \" \".join(token)\n",
    "print(song)"
   ]
  },
  {
   "cell_type": "code",
   "execution_count": 83,
   "metadata": {},
   "outputs": [
    {
     "name": "stdout",
     "output_type": "stream",
     "text": [
      "Dance for me, Dance for me, Dance for me, Oh, Oh, Oh. \n",
      " I've never seen anybody do the things you do before. \n",
      " They say move for me, Move for me, Move for me, Ay, Ay, Ay. \n",
      " And when you're done. I'll make you do it all again. \n",
      "\n"
     ]
    }
   ],
   "source": [
    "sing = \"\"\"Dance for me, dance for me, dance for me, oh, oh, oh.\n",
    "i've never seen anybody do the things you do before.\n",
    "they say move for me, move for me, move for me, ay, ay, ay.\n",
    "and when you're done. i'll make you do it all again.\"\"\"\n",
    "\n",
    "# 문자열 리스트에 저장\n",
    "song = sing.split('\\n')\n",
    "token = []\n",
    "for i in range(len(song)):\n",
    "    token += song[i].split()\n",
    "    token += \"\\n\"\n",
    "ch_token = ''\n",
    "for j in range(len(token)):\n",
    "    if (',' in token[j]) or ('.' in token[j]):\n",
    "        if (j+1) < len(token):\n",
    "            if token[(j+1) % len(token)] != \"\\n\":\n",
    "                ch_token = \"\".join(token[(j+1) % len(token)])     # 바꿀리스트 문자열로 변환\n",
    "                ch_token = ch_token.capitalize()                  # 첫글자 대문자로 바꾸기\n",
    "                token.pop(j+1)                     # 삭제하고\n",
    "                token.insert(j+1,ch_token)         # 바꾼것으로 넣어준다.\n",
    "\n",
    "            elif token[(j+2) % len(token)] != token[0]:           # Dance for의 위치가 바뀌는 오류를 막기위해 첫 번째 인덱스는 제외한다.\n",
    "                ch_token = \"\".join(token[(j+2) % len(token)])     # 바꿀리스트 문자열로 변환\n",
    "                ch_token = ch_token.capitalize()                  # 첫글자 대문자로 바꾸기\n",
    "                token.pop((j+2) % len(token))                     \n",
    "                token.insert((j+2) % len(token),ch_token)\n",
    "song = []\n",
    "song = \" \".join(token)\n",
    "print(song)"
   ]
  },
  {
   "cell_type": "markdown",
   "metadata": {},
   "source": [
    "#### 코드설명\n",
    "1. 문자열로 노래를 넣어준다.\n",
    "2. 문자열을 리스트로 한줄한줄 넣어준다.\n",
    "3. 한줄한줄 넣은 리스트를 단어단위로 바꾸어준다.\n",
    "4. . , 를 만났을때 다음 첫글자를 대문자로 바꾸어준다.\n",
    "5. 단어별로 되어있는것을 문자열로 합친다."
   ]
  },
  {
   "cell_type": "markdown",
   "metadata": {},
   "source": [
    "#### 문제 5\n",
    "두 단어가 애너그램(anagram, 철자 순서를 바꾼 말)인지를 검사하는 함수를 작성하시오.    \n",
    "두 단어가 서로 동일한 문자를 포함하고 있다면 애너그램 관계에 있다. 예를 들어 silent와 listen은 애너그램 관계가 성립한다. 함수 헤더는 다음과 같다. s1과 s2가 애너그램이면 True를 반환, 그렇지 않으면 False를 반환한다.    \n",
    "\n",
    "def isAnagram(s1, s2):    \n",
    "사용자로부터 두 문자열을 입력받고, 이들이 애너그램이면 ‘애너그램입니다’를 출력하고, 그렇지 않으면 ‘애너그램이 아닙니다.’를 출력하는 테스트 프로그램을 작성하시오.\n",
    "(함수 내부에서 문자열에 대한 리스트를 생성하고 이를 사용하여 애너그램임을 판단할 것.)"
   ]
  },
  {
   "cell_type": "code",
   "execution_count": 159,
   "metadata": {},
   "outputs": [
    {
     "name": "stdout",
     "output_type": "stream",
     "text": [
      "첫번째 문자열을 입력하세요: silent\n",
      "두번째 문자열을 입력하세요: listen\n",
      "애너그램입니다!\n"
     ]
    }
   ],
   "source": [
    "# 애너그램 함수\n",
    "def isAnagram(s1,s2):\n",
    "    # 문자열 순서대로 정리\n",
    "    s1 = sorted(s1)\n",
    "    s2 = sorted(s2)\n",
    "    \n",
    "    # 길이 우선 확인\n",
    "    if len(s1) != len(s2):\n",
    "        return False\n",
    "    else:                      # 길이가 같으면\n",
    "        i = 0                  # 반복문 탈출할 값\n",
    "        while i < len(s1):\n",
    "            if s1[i] != s2[i]:# 같은 철자가 아니면 False\n",
    "                return False\n",
    "            else:             # 같은 철자이면\n",
    "                i += 1        # 끝까지 비교해야함으로 i++\n",
    "        return True\n",
    "        \n",
    "\n",
    "def main():\n",
    "    # 사용자로 부터 입력받기\n",
    "    s1 = input(\"첫번째 문자열을 입력하세요: \")\n",
    "    s2 = input(\"두번째 문자열을 입력하세요: \")\n",
    "    \n",
    "    # 함수호출\n",
    "    gram = isAnagram(s1,s2)\n",
    "    \n",
    "    # 리턴받은 값으로 애너그램 판단\n",
    "    if gram == True:\n",
    "        print(\"애너그램입니다!\")\n",
    "    else:\n",
    "        print(\"애너그램이 아닙니다.\")\n",
    "    \n",
    "main()"
   ]
  },
  {
   "cell_type": "markdown",
   "metadata": {},
   "source": [
    "#### 코드설명\n",
    "1. main함수 작성    \n",
    "사용자로부터 s1,s2를 입력받는다.    \n",
    "함수를 호출한다.\n",
    "\n",
    "2. 애너그램 함수 구현    \n",
    "입력받은 문자열을 알파벳순서대로 정렬한다.    \n",
    "이때, 리스트가 아닌 문자열을 정렬하기위해 sorted함수 이용    \n",
    "\n",
    "2-1) 문자열 길이확인    \n",
    "애너그램은 철자의 조합만 바꾼것임으로 우선 길이를 확인한다.    \n",
    "\n",
    "2-2) 인덱스값 비교\n",
    "철자들이 정렬되어있음으로 인덱스들의 철자 값을 비교한다.    \n",
    "같을경우도 전체인덱스를 돌아야하기 때문에 i+=1로 조절해준다.\n",
    "while문을 다 통과하였을때 True를 반환한다."
   ]
  }
 ],
 "metadata": {
  "kernelspec": {
   "display_name": "Python 3",
   "language": "python",
   "name": "python3"
  },
  "language_info": {
   "codemirror_mode": {
    "name": "ipython",
    "version": 3
   },
   "file_extension": ".py",
   "mimetype": "text/x-python",
   "name": "python",
   "nbconvert_exporter": "python",
   "pygments_lexer": "ipython3",
   "version": "3.8.3"
  }
 },
 "nbformat": 4,
 "nbformat_minor": 4
}
