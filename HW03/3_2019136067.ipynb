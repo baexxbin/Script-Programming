{
 "cells": [
  {
   "cell_type": "markdown",
   "metadata": {},
   "source": [
    "#### 문제 1\n",
    "(Fan 클래스) 팬을 표현하는 Fan 클래스를 구현하시오. Fan 클래스는 다음을 포함한다.    \n",
    "\n",
    "* 팬의 속도를 나타내는 각각의 값이 1,2,3인 세 상수 SLOW, MEDIUM과 FAST\n",
    "* 팬의 속도를 명시하는 private int 데이터 필드 speed\n",
    "* 팬의 전원이 켜져 있는지 나타내는 private bool 데이터 필드 on(기본값 False)\n",
    "* 팬의 반지름(크기)을 나타내는 private float 데이터 필드 radius\n",
    "* 팬의 색상을 나타내는 private string 데이터 필드 color\n",
    "* 모든 데이터 필드에 대한 접근자와 변경자\n",
    "* 특정 속도(기본값 SLOW), 반지름(기본값 5), 색상(기본값 blue), 그리고 전원(기본값 False)에 대한 선풍기를 생성하는 생성자    \n",
    "\n",
    "두 개의 Fan 객체를 생성하는 테스트 프로그램을 작성하시오. 첫 번째 객체에 대해 최대 속도, 크기 10, 색상 노란색 그리고 전원 켜짐을 할당하시오. 두 번째 객체에 대해 중간 속도, 크기 5, 색상 파란색 그리고 전원은 꺼짐을 할당하시오. 각 객체의 속도, 반지름, 색상 및 전원 속성을 출력하시오."
   ]
  },
  {
   "cell_type": "code",
   "execution_count": 78,
   "metadata": {
    "scrolled": true
   },
   "outputs": [
    {
     "name": "stdout",
     "output_type": "stream",
     "text": [
      "fan1의 속도: 3  반지름: 10.0 색: Yellow 전원상태: 전원 켜짐\n",
      "fan2의 속도: 2  반지름: 5.0 색: blue 전원상태: 전원 꺼짐\n"
     ]
    }
   ],
   "source": [
    "class Fan :\n",
    "    def __init__(self):\n",
    "        self.SLOW = 1\n",
    "        self.MEDIUM = 2\n",
    "        self.FAST = 3\n",
    "        self.__speed = 1\n",
    "        self.__on = False\n",
    "        self.__radius = 5.0\n",
    "        self.__color = \"blue\"\n",
    "    \n",
    "    # speed 변경자\n",
    "    def setSpeed(self, speed):\n",
    "        if speed == self.SLOW:\n",
    "            self.__speed = speed\n",
    "            \n",
    "    # speed 접근자\n",
    "    def getSpeed(self):\n",
    "        if self.__speed == 1:\n",
    "            return self.SLOW\n",
    "        elif self.__speed == 2:\n",
    "            return self.MEDIUM\n",
    "        elif self.__speed == 3:\n",
    "            return self.FAST\n",
    "    \n",
    "    # on 변경자\n",
    "    def setOn(self, on):\n",
    "        if on == True:\n",
    "            self.__on = True\n",
    "        elif on == False:\n",
    "            self.__on = False\n",
    "    \n",
    "    # on 접근자\n",
    "    def getOn(self):\n",
    "        if self.__on == True:\n",
    "            return \"전원 켜짐\" \n",
    "        elif self.__on == False:\n",
    "            return \"전원 꺼짐\"\n",
    "    \n",
    "    # radius 변경자\n",
    "    def setRadius(self, radius):\n",
    "        if radius > 0:\n",
    "            self.__radius = radius\n",
    "    \n",
    "    # radius 접근자\n",
    "    def getRadius(self):\n",
    "        return self.__radius\n",
    "    \n",
    "    # color 변경자\n",
    "    def setColor(self, color):\n",
    "        self.__color = color\n",
    "    \n",
    "    # color 접근자\n",
    "    def getColor(self):\n",
    "        return self.__color \n",
    "    \n",
    "def main():\n",
    "    fan1 = Fan()\n",
    "    fan1.setSpeed(3)\n",
    "    fan1.setRadius(10.0)\n",
    "    fan1.setColor(\"Yellow\")\n",
    "    fan1.setOn(True)\n",
    "    \n",
    "    fan2 = Fan()\n",
    "    fan2.setSpeed(2)\n",
    "    fan2.setRadius(5.0)\n",
    "    fan2.setColor(\"blue\")\n",
    "    fan2.setOn(False)\n",
    "    \n",
    "    print(\"fan1의 속도:\", fan1.getSpeed(), \" 반지름:\", fan1.getRadius(), \"색:\", fan1.getColor(), \"전원상태:\", fan1.getOn())\n",
    "    print(\"fan2의 속도:\", fan2.getSpeed(), \" 반지름:\", fan2.getRadius(), \"색:\", fan2.getColor(), \"전원상태:\", fan2.getOn())\n",
    "    \n",
    "main()"
   ]
  },
  {
   "cell_type": "markdown",
   "metadata": {},
   "source": [
    "#### 코드설명\n",
    "생성자    \n",
    "1. 속도의 세기 FAST, MEDIUM, SLOW를 각각 1.2.3 으로 선언해준다.\n",
    "2. 전원, 반지름, 색에대한 변수선언과 초기화를 해준다.\n",
    "3. 각 필드에 대한 get, set매소드를 만들어준다.\n",
    "main    \n",
    "4. 객체를 만들고 값을 넣어준 후 결과를 출력해준다."
   ]
  },
  {
   "cell_type": "markdown",
   "metadata": {},
   "source": [
    "#### 문제 2\n",
    "Elevator 클래스를 구현하시오. 클래스는 다음을 포함한다. \n",
    "\n",
    "* Private 데이터 필드 people, floor, (bool 타입) is_overload, is_on 변수, 이에 대한 get, set 메소드\n",
    "* people, floor, is_overload, is_on을 초기화하는 생성자\n",
    "* 사람을 1명씩 넣거나 빼는 people_in, people_out 메소드\n",
    "* 엘리베이터 전원을 끌수 있는 power_off 메소드\n",
    "* 현재 엘리베이터 사람수, 층을 출력하는 print_elevator 메소드    \n",
    "\n",
    "초기 값은 사람 0명, 1층으로 한다. 층은 지하2층에서 15층으로 제한한다. 무한 반복문을 사용하여 현재 엘리베이터 층과 사람수를 출력하고 사용자의 입력을 받는다. “in”를 입력받으면 사람이 1명 증가하고 “out”을 입력받으면 사람이 1명 감소된다. 숫자를 입력 받으면 층이 해당 숫자가 된다. “off”를 입력받거나 사람이 10명 이상이면 “엘리베이터가 종료됩니다.” 문구와 함께 프로그램이 종료된다. "
   ]
  },
  {
   "cell_type": "code",
   "execution_count": null,
   "metadata": {},
   "outputs": [
    {
     "name": "stdout",
     "output_type": "stream",
     "text": [
      "현재 1 층 , 0 명 탑승\n"
     ]
    }
   ],
   "source": [
    "class Elevator:\n",
    "    def __init__(self):\n",
    "        self.__people = 0\n",
    "        self.__floor = 1\n",
    "        self.__is_overload = False     # 사람수가 제한 용량을 초과했는지 여부\n",
    "        self.__is_on = True          # 엘리베이터의 전원이 켜져있는지 여부 \n",
    "        \n",
    "    # people 접근자& 설정자\n",
    "    def setPeople(self, people):\n",
    "        if people >=0 and people < 10:\n",
    "            self.__people = people\n",
    "        else:\n",
    "            return False\n",
    "    \n",
    "    def getPeople(self):\n",
    "        return self.__people\n",
    "    \n",
    "    # floor 접근자&설정자\n",
    "    def setFloor(self, floor):\n",
    "        floor = int(floor)\n",
    "        if floor > -3 and floor < 16 and floor != 0:\n",
    "            self.__floor = floor\n",
    "        else:\n",
    "            return False\n",
    "    \n",
    "    def getFloor(self):\n",
    "        return self.__floor\n",
    "    \n",
    "    # is_overload 접근자&설정자\n",
    "    def set_is_overload(self, overload):\n",
    "        if overload > 0 and overload <10:\n",
    "            self.__people = False\n",
    "        elif overload >= 10:\n",
    "            self.__people = True\n",
    "    \n",
    "    def get_is_overload(self):\n",
    "        return self.__is_overload\n",
    "    \n",
    "    # is_on 접근자&설정자\n",
    "    def set_is_on(self, on):\n",
    "        if (on == False) or (people > 10):\n",
    "            self.__is_on = False\n",
    "        elif (on == True) or (people >=0 and people < 10):\n",
    "            self.__is_on = True\n",
    "    \n",
    "    def get_is_on(self):\n",
    "        return self.__is_on\n",
    "    \n",
    "    # 사람 넣는 매소드\n",
    "    def people_in(self, people):\n",
    "        if people == \"in\":\n",
    "            if self.__people < 9:\n",
    "                self.__people += 1\n",
    "        \n",
    "    \n",
    "    # 사람 빼는 매소드\n",
    "    def people_out(self, people):\n",
    "        if people == \"out\":\n",
    "            self.__people -= 1\n",
    "    \n",
    "    # 전원 끄는 매소드\n",
    "    def power_off(self, on):\n",
    "        if on == \"off\":\n",
    "            self.__is_on = False\n",
    "            print(\"엘리베이터가 종료됩니다.\")\n",
    "\n",
    "    # print 매소드\n",
    "    def print_elevator(self):\n",
    "        print(\"현재\", self.getFloor(), \"층\", \",\", self.getPeople(), \"명 탑승\")\n",
    "    \n",
    "\n",
    "def main():\n",
    "    elevator = Elevator()     # 엘리베이터 객체 생성\n",
    "    \n",
    "    def neg_digit(s):         # 음수 정수 판별하기\n",
    "        if s[0] == '-' and s[1].isdigit():   \n",
    "            return True\n",
    "        else:\n",
    "            return False\n",
    "    \n",
    "    while(elevator.get_is_on()):\n",
    "        elevator.print_elevator()      # 층, 사람수 표시\n",
    "        put = input(\"사용자 입력: \")\n",
    "        \n",
    "        # 사용자로부터 문자를 입력받았을 때\n",
    "        # 사람 입력\n",
    "        if (elevator.get_is_overload()== False):\n",
    "            if elevator.getPeople() >= 0 or elevator.getPeople() < 10:\n",
    "                elevator.people_in(put)\n",
    "                if elevator.getPeople() >= 9:\n",
    "                    print(\"인원 초과\")\n",
    "                elevator.people_out(put)\n",
    "        \n",
    "        # 사용자로부터 숫자를 입력받았을 때\n",
    "        if neg_digit(put) or put.isdigit():\n",
    "            num = int(put)\n",
    "            elevator.setFloor(put)\n",
    "            if elevator.setFloor(put) == False:\n",
    "                print(num, \"층은 갈수 없는 층입니다.\")\n",
    "            \n",
    "        if elevator.power_off(put):\n",
    "            break\n",
    "\n",
    "main()"
   ]
  },
  {
   "cell_type": "markdown",
   "metadata": {},
   "source": [
    "#### 코드설명\n",
    "생성자의 필드값에 대한 get, set매소드와 사람과 층수를 조절할 매소드를 만들어서 이용한다.    \n",
    "\n",
    "1. 문제의 조건에 맞는 필드와 매소드들을 설정해준다.    \n",
    "2. 각 함수에 대해서 사람수의 조건(0~9명 탑승가능), 층수의 조건(-2 ~ 15층 && 0층 제외)을 걸어준다.   \n",
    "3. -2층의 경우 isdigit이 아닌 neg_digit을 main에 선언해준다.\n",
    "4. main에서 사용자로 부터 입력을 받는다.\n",
    "5. 숫자를 입력받았을 경우는 입력받은 값을 int를 통해 정수형으로 변환시켜준다.\n",
    "6. off를 입력 받았을 시, 무한반복문을 탈출한다."
   ]
  },
  {
   "cell_type": "markdown",
   "metadata": {},
   "source": [
    "#### 문제 3\n",
    "(Time 클래스) Time라는 이름의 클래스를 구현하시오. 클래스는 다음을 포함한다. \n",
    "\n",
    "* 시간을 표현하는 hour, minute 및 second private 데이터 필드\n",
    "* 현재 시간을 사용하여 hour, minute 및 second를 초기화하는 Time 객체를 생성하는 생성자\n",
    "* 각각의 hour, minute 및 second 데이터 필드에 대한 get 메소드\n",
    "* 초 단위의 소요 시간을 사용하여 객체의 새로운 시간을 설정하는 setTime(elapseTime) * * 메소드, 예를 들어 소요 시간 555550초는 10시간, 19분 10초이다.\n",
    "\n",
    "Time 객체를 생성하는 테스트 프로그램을 작성하고 시, 분, 초를 출력하시오. 프로그램은 사용자로부터 소요 시간을 입력 받고 Time객체에 입력 받은 소요 시간을 설정하고 시, 분, 초를 출력한다. 실행 예는 다음과 같다."
   ]
  },
  {
   "cell_type": "code",
   "execution_count": 104,
   "metadata": {},
   "outputs": [
    {
     "name": "stdout",
     "output_type": "stream",
     "text": [
      "현재 시간은  01 : 49 : 46 입니다.\n",
      "소요 시간을 입력하세요: 55550505\n",
      "소요시간은  22 : 41 : 45 입니다.\n"
     ]
    }
   ],
   "source": [
    "# time모듈 import\n",
    "import time\n",
    "\n",
    "class Time:\n",
    "\n",
    "    def __init__(self):\n",
    "        # 현재시간 시,분, 초 별로 생성\n",
    "        self.__hour = time.strftime('%H')\n",
    "        self.__minute = time.strftime('%M')\n",
    "        self.__second = time.strftime('%S')\n",
    "    \n",
    "    # 시 분 초의 get함수 \n",
    "    def getHour(self):\n",
    "        return self.__hour\n",
    "    \n",
    "    def getMinute(self):\n",
    "        return self.__minute\n",
    "    \n",
    "    def getSecond(self):\n",
    "        return self.__second\n",
    "    \n",
    "    # setTime 매소드: 입력받은 소요시간 시분초로 변환\n",
    "    def setTime(self, elapseTime):\n",
    "        m, s = divmod(elapseTime, 60)\n",
    "        h, m = divmod(m, 60)\n",
    "        d, h = divmod(h, 24)\n",
    "        self.__hour = h\n",
    "        self.__minute = m\n",
    "        self.__second = s\n",
    "        \n",
    "def main():\n",
    "    # time객체 생성\n",
    "    t = Time()\n",
    "    \n",
    "    # 현재시간 출력\n",
    "    print(\"현재 시간은 \", t.getHour(),\":\", t.getMinute(), \":\", t.getSecond(), \"입니다.\")\n",
    "    \n",
    "    # 소요시간 입력\n",
    "    elapseTime = eval(input(\"소요 시간을 입력하세요: \"))\n",
    "    \n",
    "    # setTime함수 호출\n",
    "    t.setTime(elapseTime)\n",
    "    \n",
    "    # 소요시간 시분초 변환출력\n",
    "    print(\"소요시간은 \", t.getHour(),\":\", t.getMinute(), \":\", t.getSecond(), \"입니다.\")\n",
    "\n",
    "main()"
   ]
  },
  {
   "cell_type": "markdown",
   "metadata": {},
   "source": [
    "#### 코드설명\n",
    "1. 생성자의 시,분,초를 현재 시,분,초로 초기화해준다.    \n",
    "strftime함수 이용    \n",
    "\n",
    "2. setTime함수 만들기\n",
    "divmode(a,b): a를 b로 나누고, 몫과 나머지를 튜플형태로 반환(몫, 나머지)    \n",
    "elapseTime를 60으로 나눈 나머지 = 초    \n",
    "elapseTime를 60으로 나눈 몫 = (정리되지 않은)분    \n",
    "정리되지 않은'분' 을 60으로 나눈 나머지 = 분    \n",
    "정리되지 않은'분' 을 60으로 나눈 몫 = (정리되지 않은)시    \n",
    "(정리되지 않은)시 를 24로 나눈 나머지 = 시    \n",
    "(정리되지 않은)시 를 24로 나눈 몫 = 날짜    \n",
    "\n",
    "3. main함수\n",
    "현재시간과, 입력받은 소요시간을 변환한 값을 출력한다.    "
   ]
  },
  {
   "cell_type": "markdown",
   "metadata": {},
   "source": [
    "#### 문제 4\n",
    "홍길동 씨의 주민등록번호는 951105-1111111이다.    \n",
    "홍길동씨의 주민등록번호를 연월일(YYYYMMDD)부분과 그 뒤의 순자 부분으로 나누어 출력하는 프로그램을 작성하시오.    \n",
    "생년월일 : 19951105\n",
    "뒷자리 : 1111111"
   ]
  },
  {
   "cell_type": "code",
   "execution_count": 129,
   "metadata": {},
   "outputs": [
    {
     "name": "stdout",
     "output_type": "stream",
     "text": [
      "생년월일:  19951105\n",
      "뒷자리:  1111111\n"
     ]
    }
   ],
   "source": [
    "# 주민등록번호 문자열 생성\n",
    "identi = '951105-1111111'\n",
    "\n",
    "# 주민등록번호 앞자리\n",
    "front = identi.split('-')[0]\n",
    "\n",
    "# 전체연도를 써주기 위해 몇년대 사람인지 검사\n",
    "if identi[7] == '1' or identi[7] == '2':\n",
    "    front = '19' + front\n",
    "else:\n",
    "    front = '20' + front\n",
    "    \n",
    "# 결과출력\n",
    "print(\"생년월일: \", front)\n",
    "print(\"뒷자리: \", identi.split('-')[1])"
   ]
  },
  {
   "cell_type": "markdown",
   "metadata": {},
   "source": [
    "#### 코드설명\n",
    "1. 홍길동씨의 주민등록번호 변수 생성    \n",
    "-를 포함함으로 문자열 변수를 생성한다.\n",
    "\n",
    "2. 문자열 나누기    \n",
    "split('-')함수를 이용해 '-'를 기준으로 문자열을 나눈다.    \n",
    "문자열이 나뉘었다면 리스트형태로 두개가 존재하므로 리스트의 인덱스번호를 통해 원하는 값을 불러온다.\n",
    "\n",
    "3. 전체연도 처리\n",
    "주민번호 뒤에서 앞자리가 1또는 2일 경우 1900년대 사람임으로 19를 붙여주고 아닐경우 2000년대 사람임으로 20을 붙여준다."
   ]
  },
  {
   "cell_type": "markdown",
   "metadata": {},
   "source": [
    "#### 문제 5\n",
    "‘Korea cheonan’ 문자열에 대해서 슬라이싱 연산을 이용하여 ‘cheon Korea’로 바꾸어서 출력하는 프로그램을 작성하시오."
   ]
  },
  {
   "cell_type": "code",
   "execution_count": 119,
   "metadata": {},
   "outputs": [
    {
     "data": {
      "text/plain": [
       "'cheon Korea'"
      ]
     },
     "execution_count": 119,
     "metadata": {},
     "output_type": "execute_result"
    }
   ],
   "source": [
    "# 문자열 생성\n",
    "ch = 'Korea cheonan'\n",
    "\n",
    "# 슬라이싱 후 문자열 붙이기\n",
    "ch[6:11]+ ' ' + ch[0:5]"
   ]
  },
  {
   "cell_type": "markdown",
   "metadata": {},
   "source": [
    "#### 코드설명\n",
    "1. 문자열 변수 ch를 설정해준다.\n",
    "2. 슬라이싱기법을 통해 cheon까지 출력한다.\n",
    "3. 슬라이싱기법을 통해 Korea도 출력한다.\n",
    "4. 두 문자열과 공백을 + 연산을 통해 이어준다."
   ]
  }
 ],
 "metadata": {
  "kernelspec": {
   "display_name": "Python 3",
   "language": "python",
   "name": "python3"
  },
  "language_info": {
   "codemirror_mode": {
    "name": "ipython",
    "version": 3
   },
   "file_extension": ".py",
   "mimetype": "text/x-python",
   "name": "python",
   "nbconvert_exporter": "python",
   "pygments_lexer": "ipython3",
   "version": "3.8.3"
  }
 },
 "nbformat": 4,
 "nbformat_minor": 4
}
