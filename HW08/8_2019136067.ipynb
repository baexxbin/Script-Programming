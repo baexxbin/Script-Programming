{
 "cells": [
  {
   "cell_type": "markdown",
   "metadata": {},
   "source": [
    "#### 문제 1\n",
    "난수를 발생시켜 10개의 1~100사이의 정수 값을 가진 배열 a를 생성하여 다음과 같이 출력하시오. 그리고 이 수들 중에서 최댓값, 최솟값, 평균값을 각각 출력하시오.\n",
    "최댓값과, 최솟값, 평균값을 막대 그래프로 표현하시오."
   ]
  },
  {
   "cell_type": "code",
   "execution_count": 13,
   "metadata": {},
   "outputs": [
    {
     "data": {
      "image/png": "[encoded data removed]",
      "text/plain": [
       "<Figure size 432x288 with 1 Axes>"
      ]
     },
     "metadata": {
      "needs_background": "light"
     },
     "output_type": "display_data"
    },
    {
     "name": "stdout",
     "output_type": "stream",
     "text": [
      "a = [90, 93, 47, 98, 100, 65, 31, 64, 92, 42]\n",
      "최소값: 31\n",
      "최대값: 100\n",
      "평균값: 72.2\n"
     ]
    }
   ],
   "source": [
    "import random\n",
    "import matplotlib.pyplot as plt\n",
    "from matplotlib import rc\n",
    "\n",
    "# a랜덤 배열 생성\n",
    "a = [random.randint(1,100) for _ in range(10)]\n",
    "\n",
    "sum=0\n",
    "for i in range(len(a)):\n",
    "    sum+= a[i]\n",
    "\n",
    "# 막대 그래프 그리기\n",
    "rc('font', family='Malgun Gothic')\n",
    "\n",
    "x = ['최소값', '최대값', '평균값']\n",
    "y = [min(a), max(a), sum/len(a)]\n",
    "plt.title('배열 a의 최소, 최대, 평균값')\n",
    "\n",
    "plt.bar(x,y)\n",
    "plt.show()\n",
    "\n",
    "# a, 최소, 최대, 평균값 출력\n",
    "print(f'a = {a}')\n",
    "print(f'{x[0]}: {min(a)}')\n",
    "print(f'{x[1]}: {max(a)}')\n",
    "print(f'{x[2]}: {sum/len(a)}')"
   ]
  },
  {
   "cell_type": "markdown",
   "metadata": {},
   "source": [
    "#### 코드설명\n",
    "1. 배열a 만들기     \n",
    "먼저 배열 a의 값을 1~100까지의 랜덤값으로 초기화해준다.\n",
    "\n",
    "2. 평균값, 최소,최대값 찾기\n",
    "평균값을 찾기위해 배열a의 값들을 sum에 저장해주고 a의 길이로 나누어준다.    \n",
    "최소,최대값들은 min,max함수를 통해 바로 찾을 수 있으므로 따로 먼저 적어주지 않는다.     \n",
    "\n",
    "3. 막대그래프 그리기\n",
    "그래프를 그리기위한 함수들을 import해온다.     \n",
    "그래프의 글꼴, 제목, x축, y축에 해당하는 값을 적은 후 막대그래프를 출력한다.     \n",
    "\n",
    "4. 평균, 최소, 최대값들을 출력해준다."
   ]
  },
  {
   "cell_type": "markdown",
   "metadata": {},
   "source": [
    "#### 문제 2\n",
    "2차원 5 * 5 넘파이 배열을 만들고 내부 값은 모두 0으로 초기화합니다. 그 다음 바깥 라인으로 1을 추가합니다. 바뀐 넘파이 배열의 크기는 7 * 7이 됩니다. (인덱스 슬라이싱을 사용. 초기화된 행렬과, 변환된 행렬 모두 출력.)"
   ]
  },
  {
   "cell_type": "code",
   "execution_count": 8,
   "metadata": {},
   "outputs": [
    {
     "name": "stdout",
     "output_type": "stream",
     "text": [
      "A= [[0 0 0 0 0]\n",
      " [0 0 0 0 0]\n",
      " [0 0 0 0 0]\n",
      " [0 0 0 0 0]\n",
      " [0 0 0 0 0]]\n",
      "\n",
      "A= [[1 1 1 1 1 1 1]\n",
      " [1 0 0 0 0 0 1]\n",
      " [1 0 0 0 0 0 1]\n",
      " [1 0 0 0 0 0 1]\n",
      " [1 0 0 0 0 0 1]\n",
      " [1 0 0 0 0 0 1]\n",
      " [1 1 1 1 1 1 1]]\n"
     ]
    }
   ],
   "source": [
    "import numpy as np\n",
    "\n",
    "# 5*5 numpy배열 만들기\n",
    "A = np.zeros((5,5), dtype=np.int32)\n",
    "print(f'A= {A}')\n",
    "print()\n",
    "\n",
    "# 1로 채워진 열과 행 가장자리에 추가\n",
    "A = np.insert(A, slice(0,1), 1, axis=0)    # 인덱스 슬라이싱\n",
    "A = np.insert(A, slice(0,1), 1, axis=1)\n",
    "A = np.insert(A, 6, 1, axis=0)\n",
    "A = np.insert(A, 6, 1, axis=1)\n",
    "\n",
    "print(f'A= {A}')"
   ]
  },
  {
   "cell_type": "markdown",
   "metadata": {},
   "source": [
    "#### 코드설명\n",
    "1. 5 * 5 numpy배열 A생성\n",
    "zeros를 통해 0으로 초기화한다.     \n",
    "\n",
    "2. 사면에 바깥라인 1추가\n",
    "np.insert함수를 통해 A배열에 1로 추가된 열과 행을 만들어 총 7 * 7배열을 만든다.\n",
    "A = np.insert(바꿀 배열, 몇번째 행(열), 변환할 값, axis=(0:행/ 1:열))"
   ]
  },
  {
   "cell_type": "markdown",
   "metadata": {},
   "source": [
    "#### 문제 3\n",
    "체크보드패턴 만들기 8 * 8 넘파이 배열을 만들고 내부는 0으로 초기화 합니다.\n",
    "0과1이 교대로 나오게 바꾸시오. (인덱스 슬라이싱을 사용. 초기화된 행렬과, 변환된 행렬 모두 출력.)"
   ]
  },
  {
   "cell_type": "code",
   "execution_count": 7,
   "metadata": {},
   "outputs": [
    {
     "name": "stdout",
     "output_type": "stream",
     "text": [
      "A = [[0 0 0 0 0 0 0 0]\n",
      " [0 0 0 0 0 0 0 0]\n",
      " [0 0 0 0 0 0 0 0]\n",
      " [0 0 0 0 0 0 0 0]\n",
      " [0 0 0 0 0 0 0 0]\n",
      " [0 0 0 0 0 0 0 0]\n",
      " [0 0 0 0 0 0 0 0]\n",
      " [0 0 0 0 0 0 0 0]]\n",
      "\n",
      "A = [[0 1 0 1 0 1 0 1]\n",
      " [1 0 1 0 1 0 1 0]\n",
      " [0 1 0 1 0 1 0 1]\n",
      " [1 0 1 0 1 0 1 0]\n",
      " [0 1 0 1 0 1 0 1]\n",
      " [1 0 1 0 1 0 1 0]\n",
      " [0 1 0 1 0 1 0 1]\n",
      " [1 0 1 0 1 0 1 0]]\n"
     ]
    }
   ],
   "source": [
    "import numpy as np\n",
    "\n",
    "# 8*8 배열A 0으로 초기화\n",
    "A = np.zeros((8,8), dtype=np.int32)\n",
    "print(f'A = {A}')\n",
    "\n",
    "# 인덱스 슬리이싱을 통해 배열요소1로 바꾸기\n",
    "A[0:8:2, 1:8:2] = 1\n",
    "A[1:8:2, 0:8:2] =1\n",
    "\n",
    "print()\n",
    "print(f'A = {A}')"
   ]
  },
  {
   "cell_type": "markdown",
   "metadata": {},
   "source": [
    "#### 코드설명\n",
    "1. 8 * 8 0으로 초기화된 numpy배열을 선언\n",
    "이때, 데이터 타입은 int32로 선언해준후 출력한다.     \n",
    "\n",
    "2. 인덱스 슬라이싱을 통해 배열요소 1로 변환    \n",
    "바꾸어야할 배열의 형태를 보면 짝수행의 홀수 열번째를 1, 홀수행의 짝수 열번째를 1로 바꾸어야함으로 다음과 같은 형태를 인덱스슬라이싱의 step을 사용해 요소의 값을 바꾸어준다.      \n",
    "\n",
    "3. 바꾼값을 출력"
   ]
  },
  {
   "cell_type": "markdown",
   "metadata": {},
   "source": [
    "#### 문제 4\n",
    "(np.where 사용) 5 * 5 * 3 크기의 넘파이 배열을 생성합니다. 내부의 값은 1 ~ 10 사이의 정수 난수 값으로 초기화 한 뒤 1채널에는 3인 값을 0으로 바꾸고, 2채널에는 5인 값을 0으로 바꾸고, 3채널에는 7인 값을 0으로 바꾸어 출력하시오."
   ]
  },
  {
   "cell_type": "code",
   "execution_count": 40,
   "metadata": {},
   "outputs": [
    {
     "name": "stdout",
     "output_type": "stream",
     "text": [
      "A = [[[ 4  7  1  4 10]\n",
      "  [ 1  3  4  4  5]\n",
      "  [ 3  4  6  7  6]\n",
      "  [ 6  6  8  6  3]\n",
      "  [ 9  5  3  6  6]]\n",
      "\n",
      " [[ 2  3  5  8  1]\n",
      "  [ 2  3  1  3 10]\n",
      "  [10  5  2  4  6]\n",
      "  [ 1  9  4  2 10]\n",
      "  [10  8  9 10  5]]\n",
      "\n",
      " [[ 1  3  5  9  8]\n",
      "  [ 8  7 10  5  4]\n",
      "  [ 3  5 10 10  6]\n",
      "  [ 8  1  5  1  7]\n",
      "  [ 3  2  9  4  5]]]\n",
      "\n",
      "A = \n",
      "[[ 4  7  1  4 10]\n",
      " [ 1  0  4  4  5]\n",
      " [ 0  4  6  7  6]\n",
      " [ 6  6  8  6  0]\n",
      " [ 9  5  0  6  6]]\n",
      "\n",
      "[[ 2  3  0  8  1]\n",
      " [ 2  3  1  3 10]\n",
      " [10  0  2  4  6]\n",
      " [ 1  9  4  2 10]\n",
      " [10  8  9 10  0]]\n",
      "\n",
      "[[ 1  3  5  9  8]\n",
      " [ 8  0 10  5  4]\n",
      " [ 3  5 10 10  6]\n",
      " [ 8  1  5  1  0]\n",
      " [ 3  2  9  4  5]]\n"
     ]
    }
   ],
   "source": [
    "import numpy as np\n",
    "\n",
    "# 랜덤 숫자로 이루어진 3차원 배열 선언\n",
    "A = np.random.randint(1,11, size=(3,5,5))\n",
    "print(f'A = {A}')\n",
    "\n",
    "print()\n",
    "print(f'A = ')\n",
    "\n",
    "# 각각의 채널값을 바꾼 배열A출력\n",
    "print(np.where(A[0]==3, 0, A[0]))\n",
    "print()\n",
    "print(np.where(A[1]==5, 0, A[1]))\n",
    "print()\n",
    "print(np.where(A[2]==7, 0, A[2]))"
   ]
  },
  {
   "cell_type": "markdown",
   "metadata": {},
   "source": [
    "#### 코드설명\n",
    "1. 넘파이배열 랜덤으로 초기화    \n",
    "randint함수를 통해 넘파이 배열을 1~10의 숫자로 랜덤으로 초기화한다.    \n",
    "이때, 배열의 차원,행,열은 size함수를 이용한다.    \n",
    "\n",
    "2. 조건에 맞게 채널별로 숫자 바꾸기\n",
    "np.where을 사용한다.\n",
    "'np.where(A[0]==3, 0, A[0])'    \n",
    "where의 첫번째 자리는 조건, 두번째는 바꿀값, 세번째는 아닌것은 그대로 둬라는 뜻이다. "
   ]
  }
 ],
 "metadata": {
  "kernelspec": {
   "display_name": "Python 3",
   "language": "python",
   "name": "python3"
  },
  "language_info": {
   "codemirror_mode": {
    "name": "ipython",
    "version": 3
   },
   "file_extension": ".py",
   "mimetype": "text/x-python",
   "name": "python",
   "nbconvert_exporter": "python",
   "pygments_lexer": "ipython3",
   "version": "3.8.3"
  }
 },
 "nbformat": 4,
 "nbformat_minor": 4
}
