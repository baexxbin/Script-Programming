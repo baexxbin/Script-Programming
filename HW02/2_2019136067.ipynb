{
 "cells": [
  {
   "cell_type": "markdown",
   "metadata": {},
   "source": [
    "#### 문제1\n",
    "깊이가 30미터인 우물이 있다. 이 우물에 사는 달팽이는 하루 종일 기어서 올라가면 7미터를 올라간다.     \n",
    "그러나 밤이 되면 쉬는 동안 5미터를 내려온다. 반복문을 이용하여 매일 저녁 달팽이의 위치를 표시하는 프로그램을 작성하시오.     \n",
    "(단순히 하루에 2m를 등반한다고 계산을 하면 15일이지만 실제로는 13일이 걸린다.) "
   ]
  },
  {
   "cell_type": "code",
   "execution_count": 25,
   "metadata": {},
   "outputs": [
    {
     "name": "stdout",
     "output_type": "stream",
     "text": [
      "Day 1 , 달팽이 위치:  7 m\n",
      "Day 2 , 달팽이 위치:  9 m\n",
      "Day 3 , 달팽이 위치:  11 m\n",
      "Day 4 , 달팽이 위치:  13 m\n",
      "Day 5 , 달팽이 위치:  15 m\n",
      "Day 6 , 달팽이 위치:  17 m\n",
      "Day 7 , 달팽이 위치:  19 m\n",
      "Day 8 , 달팽이 위치:  21 m\n",
      "Day 9 , 달팽이 위치:  23 m\n",
      "Day 10 , 달팽이 위치:  25 m\n",
      "Day 11 , 달팽이 위치:  27 m\n",
      "Day 12 , 달팽이 위치:  29 m\n",
      "Day 13 , 달팽이 위치:  31 m\n"
     ]
    }
   ],
   "source": [
    "    location, day, top = 0,1,0    # 위치, 날짜, 저녁 위치 변수 생성\n",
    "    while(top < 30):    # 저녁위치가 30m보다 작을때 까지 반복\n",
    "        location += 7   # 하루에 7m이동\n",
    "        print(\"Day\", day, \",\", \"달팽이 위치: \", location,\"m\")   # 저녁에 달팽이 위치를 찍어줌\n",
    "        top = location    # 저녁위치를 저장\n",
    "        location -= 5    # 밤 동안 5m 미끄러짐\n",
    "        day += 1        # 하루가 지남"
   ]
  },
  {
   "cell_type": "markdown",
   "metadata": {},
   "source": [
    "#### 코드설명\n",
    "달팽이가 일상 순서대로 코드를 작성하였다.    \n",
    "하루동안 7m를 이동하고, 밤에는 5m를 미끄러진다. 그리고 날이 지난다.    \n",
    "처음에 이렇게 코드를 작성하였는데, 날짜에 위치는 알맞게 나오지만 day15일 까지 출력이 되었다. 이 부분이 그냥 하루 2m씩으로 계산하면 안되는 이유같았다. 달팽이가 딱 30m에 도착했을 때를 세야하는데 location변수는 밤에 미끄러진 길이까지 계산이 되므로 반복문을 더 도는 것이였다.\n",
    "따라서 저녁의 길이(우리가 알고자하는 날짜일때의 길이)를 top변수를 이용해 저장해주었다."
   ]
  },
  {
   "cell_type": "markdown",
   "metadata": {},
   "source": [
    "#### 문제2\n",
    "<다른 방법으로 최대공약수 찾기>    \n",
    "방법: 우선, n1과 n2 중 작은 수를 d라고 한 후, d, d-1, d-2, …, 2, 1의 순서로 각각 d가 n1과 n2의 공약수인지 검사한다.    \n",
    "첫 번째로 나타난 공약수가 두 수 n1과 n2의 최대공약수이다. 이 방법으로 최대공약수를 구하는 프로그램을 작성하시오."
   ]
  },
  {
   "cell_type": "code",
   "execution_count": 42,
   "metadata": {},
   "outputs": [
    {
     "name": "stdout",
     "output_type": "stream",
     "text": [
      "첫번째 정수를 입력하세요: 4\n",
      "두번째 정수를 입력하세요: 8\n",
      "4 와(과) 8 의 최대공약수는 4 입니다.\n"
     ]
    }
   ],
   "source": [
    "# 두 수 입력받기\n",
    "n1 = eval(input(\"첫번째 정수를 입력하세요: \"))\n",
    "n2 = eval(input(\"두번째 정수를 입력하세요: \"))\n",
    "gcd = 1\n",
    "\n",
    "# n1, n2 크기비교\n",
    "d = (n2 if n1 > n2 else n1)     # 삼항연산자 이용\n",
    "\n",
    "#d를 돌리면서 공약수 비교\n",
    "while d >=1 :\n",
    "    if (n1%d == 0) and (n2%d==0):\n",
    "        gcd = d\n",
    "        break\n",
    "    d -= 1\n",
    "\n",
    "print(n1, \"와(과)\", n2, \"의 최대공약수는\", gcd, \"입니다.\")"
   ]
  },
  {
   "cell_type": "markdown",
   "metadata": {},
   "source": [
    "#### 코드설명\n",
    "1) n1, n2를 입력받고, gcd의 기본값을 1로 초기화한다.        \n",
    "\n",
    "2) 삼항연산자를 이용하여 n1과 n2의 크기를 비교함.    \n",
    "파이썬의 삼항연산자는 ?와 : 대신 if와 else를 사용하였다. 그리고 d값을 정하기 위한 삼항연산으로, 'd = '형태로 작성하였다.    \n",
    "\n",
    "3) 반복문을 통한 공약수 비교     \n",
    "while문을 이용하여 d-= 1을 하며 두 수와 나누어 떨어지는 최대공약수인지 비교한다.\n",
    "\n",
    "4) gcd값 출력    \n",
    "반복문은 d가 1일때까지만 돎으로 1이되면 저절로 탈출한 후 gcdr값을 출력하고, 최대공약수를 찾았을 경우는 d를 gcd값에 저장한 후 바로 탈출한다."
   ]
  },
  {
   "cell_type": "markdown",
   "metadata": {},
   "source": [
    "#### 문제3\n",
    "사용자로 부터 10개의 숫자를 입력받고, 평균과 표준편차 구하기. (단, 리스트 사용하지 않기)"
   ]
  },
  {
   "cell_type": "code",
   "execution_count": 7,
   "metadata": {},
   "outputs": [
    {
     "name": "stdout",
     "output_type": "stream",
     "text": [
      "10개의 숫자를 입력하세요: 1\n",
      "2\n",
      "3\n",
      "5.5\n",
      "5.6\n",
      "6\n",
      "7\n",
      "8\n",
      "9\n",
      "10\n",
      "평균은 5.71 입니다.\n",
      "표준편차는 2.820798입니다.\n"
     ]
    }
   ],
   "source": [
    "# pow, sqrt함수이용을 위함\n",
    "import math\n",
    "\n",
    "# 숫자 입력\n",
    "n1 = eval(input(\"10개의 숫자를 입력하세요: \"))\n",
    "n2 = eval(input())\n",
    "n3 = eval(input())\n",
    "n4 = eval(input())\n",
    "n5 = eval(input())\n",
    "n6 = eval(input())\n",
    "n7 = eval(input())\n",
    "n8 = eval(input())\n",
    "n9 = eval(input())\n",
    "n10 = eval(input())\n",
    "\n",
    "# 평균 구하기\n",
    "average = (n1 + n2 + n3 + n4 + n5 + n6 + n7 + n8 + n9 + n10) / 10\n",
    "\n",
    "# 편차 구하기\n",
    "d1 = n1 - average\n",
    "d2 = n2 - average\n",
    "d3 = n3 - average\n",
    "d4 = n4 - average\n",
    "d5 = n5 - average\n",
    "d6 = n6 - average\n",
    "d7 = n7 - average\n",
    "d8 = n8 - average\n",
    "d9 = n9 - average\n",
    "d10 = n10 - average\n",
    "\n",
    "# 표준편차 구하기 (분산의 루트)\n",
    "d_sum = math.sqrt((math.pow(d1,2) + math.pow(d2,2) + math.pow(d3,2) + math.pow(d4,2) + math.pow(d5,2) + math.pow(d6,2) + math.pow(d7,2) + math.pow(d8,2) + math.pow(d9,2) + math.pow(d10,2)) / 10)\n",
    "\n",
    "print(\"평균은\", average, \"입니다.\")\n",
    "print(\"표준편차는 %f입니다.\" %d_sum)"
   ]
  },
  {
   "cell_type": "markdown",
   "metadata": {},
   "source": [
    "#### 코드설명\n",
    "1) math함수 import.    \n",
    "import math : pow, sqrt 제곱과 루트를 사용하기 위함    \n",
    "\n",
    "2) 값 입력받기    \n",
    "n1 ~ n10까지 변수를 10개 만들어 입력받음    \n",
    "\n",
    "3) 평균, 편차, 편차제곱의 합, 분산, 표준편차 구하기    \n",
    "평균: n1~n10까지의 합 / 10 으로 구함.    \n",
    "편차: (각변량 - 전체평균), d[n]  \n",
    "편차 제곱의 합: pow함수를 통해 d[n]을 각각 제곱하여 더해준다.    \n",
    "분산: 편차제곱의 합을 10으로 나눈다.    \n",
    "표준편차: 분산에 sqrt함수를 통해 루트연산을 해준다.    "
   ]
  },
  {
   "cell_type": "markdown",
   "metadata": {},
   "source": [
    "#### 문제4\n",
    "하나의 실수와 하나의 정수를 함수의 인자로 입력 받고, 입력 받은 실수를 정수만큼의 자릿수에서 반올림한 결과를 반환하는 my_round(fNum, iNum) 함수를 구현하시오. 만약 정수가 전달되지 않으면 기본적으로 실수를 소수점 둘째 자리에서 반올림하도록 한다. 사용자로부터 하나의 실수와 하나의 정수를 입력받고 이 함수를 이용하여 반올림한 결과를 구하여 출력하는 테스트 프로그램을 작성하시오.\n",
    "단, my_round() 함수 내에서 파이썬 내장함수 round()를 사용하지 않는다."
   ]
  },
  {
   "cell_type": "code",
   "execution_count": 182,
   "metadata": {},
   "outputs": [
    {
     "name": "stdout",
     "output_type": "stream",
     "text": [
      "실수를 입력하세요: 1.23456\n",
      "정수를 입력하세요: 4\n",
      "반올림 값은:  1.235\n"
     ]
    }
   ],
   "source": [
    "import math      #pow함수를 위한 math import\n",
    "\n",
    "# my_round함수, iNum의 디폴트값: 2\n",
    "def my_round(fNum, iNum = 2):\n",
    "    iNum -= 1    # iNum에서 반올림하기 위해 -1\n",
    "    Num = int(fNum * pow(10,iNum) + 0.5) / 10**iNum      # 반올림 수식\n",
    "    return Num\n",
    "\n",
    "# 값 입력받기\n",
    "fNum = eval(input(\"실수를 입력하세요: \"))\n",
    "iNum = float(input(\"정수를 입력하세요: \"))\n",
    "\n",
    "# iNum이 정수가 아니거나 0보다 작으면 디폴트값이 들어감\n",
    "if (iNum.is_integer() == False) or (iNum < 0):\n",
    "    round = my_round(fNum)\n",
    "    \n",
    "else:\n",
    "    round = my_round(fNum, iNum)\n",
    "    \n",
    "print(\"반올림 값은: \", round)"
   ]
  },
  {
   "cell_type": "markdown",
   "metadata": {},
   "source": [
    "#### 코드설명\n",
    "1) 값 입력 받기\n",
    "fNum, iNum을 입력받는다.    \n",
    "만약 iNum이 정수가 아니고 0보다 작을 땐 디폴트값인 2로 실행된다.    \n",
    "(소수 몇번째 자리에서 반올림을 선택할 것이기 때문에 1부터 시작, 소수첫째자리 = 1)    \n",
    "\n",
    "2)my_round함수 생성\n",
    "iNum = 2로 디폴트값이 주어진 my_round함수를 생성한다.    \n",
    "iNum 자리까지가 아닌 iNum자리에서 반올림을 할 것이기 때문에 -1을 해준다.    \n",
    "\n",
    "* 반올림 계산하기    \n",
    "fNum에 입력받은 iNum의 값 만큼 10의 iNum승을 해준 후 0.5를 더해준다. 반올림을 위해 0.5를 더하는데, 5이상의 수는 1이되어 +1이 되고 5이하의 수는 0.5를 해도 int처리를 하였을때 아무런 변화없이 소수점은 잘리기 때문이다.   \n",
    "그 후 int처리를 하여 소수점들을 다 버려준다. 이때 소수점들은 반올림에 상관없는 나머지 숫자들이다.    \n",
    "다시, 10의 iNum승까지를 하여 나누어 실수값으로 만들어준다.    \n",
    "Num을 return해준다."
   ]
  },
  {
   "cell_type": "markdown",
   "metadata": {},
   "source": [
    "#### 문제 5\n",
    "n1, n2 두 개의 정수를 인자로 받아서 n1부터 n2까지의 정수 합을 구하여 반환하는 함수 sum_range(n1, n2)를 구현하시오.    \n",
    "사용자로부터 두 개 정수를 입력받은 후 이 함수를 이용하여 합을 구하고 이를 출력하는 테스트 프로그램을 작성하시오."
   ]
  },
  {
   "cell_type": "code",
   "execution_count": 125,
   "metadata": {
    "scrolled": true
   },
   "outputs": [
    {
     "name": "stdout",
     "output_type": "stream",
     "text": [
      "정수 n1을 입력하세요: 1\n",
      "정수 n2을 입력하세요: 10\n",
      "1 부터 10 까지의 정수 합: 55\n"
     ]
    }
   ],
   "source": [
    "# sum_range 함수\n",
    "def sum_range(n1, n2):\n",
    "    sum = 0    #sum 0으로 초기화\n",
    "    while n1 <= n2:    # n1 ~ n2까지 반복\n",
    "        sum+= n1\n",
    "        n1 += 1\n",
    "        \n",
    "    print(\"{} 부터 {} 까지의 정수 합: {}\".format(n1-n2, n2, sum))     #format을 통해 결과 출력\n",
    "\n",
    "# n1, n2값 입력받기\n",
    "n1 = eval(input(\"정수 n1을 입력하세요: \"))\n",
    "n2 = eval(input(\"정수 n2을 입력하세요: \"))\n",
    "\n",
    "# 함수 호출\n",
    "sum_range(n1, n2)"
   ]
  },
  {
   "cell_type": "markdown",
   "metadata": {},
   "source": [
    "#### 코드설명\n",
    "1) sum_range(n1, n2)함수를 만들기.    \n",
    "합을 저장할 변수 sum을 0으로 초기화 한 후, n1이 n2가 될때까지 반복문을 통해 sum에 n1을 더해준다.    \n",
    "format함수를 통해 n1, n2, sum의 값을 출력해준다. 이때 n1의 값은 계속 바뀜으로 처음 값을 적어주기 위해 n1 - n2를 해준다.    \n",
    "\n",
    "2) n1, n2 입력받기    \n",
    "n1과 n2는 정수임으로 eval함수를 이용하여 입력을 받는다.   \n",
    "\n",
    "3) 함수 호출    \n",
    "입력받은 n1, n2를 바탕으로 함수를 호출한다.    "
   ]
  },
  {
   "cell_type": "markdown",
   "metadata": {},
   "source": [
    "#### 문제 6\n",
    "하나의 정수 n을 인자로 받아서 n*n 행렬을 출력하는 함수 printMatrix(n)를 구현하시오.    \n",
    "행렬의 각 원소는 0이나 1의 값을 가지며 랜덤하게 생성된다. 사용자로부터 n을 입력받고 이 함수를 이용하여 n*n 행렬을 출력하는 테스트 프로그램을 작성하시오."
   ]
  },
  {
   "cell_type": "code",
   "execution_count": 173,
   "metadata": {},
   "outputs": [
    {
     "name": "stdout",
     "output_type": "stream",
     "text": [
      "정수 n을 입력하세요: 5\n",
      "\n",
      "0 1 0 1 0 \n",
      "0 0 1 0 0 \n",
      "0 0 0 0 1 \n",
      "1 0 1 1 0 \n",
      "1 0 1 1 0 "
     ]
    }
   ],
   "source": [
    "# 0.1로 난수 발생, random함수 import\n",
    "import random\n",
    "\n",
    "# printMatrix(n)함수 생성\n",
    "def printMatrix(n):\n",
    "    # 이중for문을 이용해 n*n만큼 행렬 생성과 0,1값 넣어줌\n",
    "    for i in range(n):\n",
    "        print()\n",
    "        for j in range(n):\n",
    "            print(random.randint(0,1), end = ' ')\n",
    "\n",
    "# n값 입력\n",
    "n = eval(input(\"정수 n을 입력하세요: \"))\n",
    "\n",
    "# 함수 호출\n",
    "printMatrix(n)"
   ]
  },
  {
   "cell_type": "markdown",
   "metadata": {},
   "source": [
    "#### 코드설명\n",
    "1) random함수 import     \n",
    "0,1로 랜덤으로 채우기위해 random함수를 import한다.    \n",
    "\n",
    "2) printMatrix(n)함수 생성    \n",
    "이중 for문을 통해 n*n만큼 행렬을 찍어낸다.    \n",
    "행렬각각의 자리 안에는 랜덤함수를 통해 0과 1로 채워준다.    \n",
    "i: 열의 경우 한줄이 끝날때마다 print()로 줄바꿈    \n",
    "j: 행의 경우 한 행의 값을 넣어주고 띄어쓰기로 구분    \n",
    "\n",
    "3) 함수 호출    \n",
    "printMatrix(n)함수를 호출한다. "
   ]
  }
 ],
 "metadata": {
  "kernelspec": {
   "display_name": "Python 3",
   "language": "python",
   "name": "python3"
  },
  "language_info": {
   "codemirror_mode": {
    "name": "ipython",
    "version": 3
   },
   "file_extension": ".py",
   "mimetype": "text/x-python",
   "name": "python",
   "nbconvert_exporter": "python",
   "pygments_lexer": "ipython3",
   "version": "3.8.3"
  }
 },
 "nbformat": 4,
 "nbformat_minor": 4
}
